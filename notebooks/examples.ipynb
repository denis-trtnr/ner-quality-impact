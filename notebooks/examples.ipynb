{
 "cells": [
  {
   "cell_type": "code",
   "execution_count": 1,
   "id": "2f179d46",
   "metadata": {},
   "outputs": [
    {
     "name": "stdout",
     "output_type": "stream",
     "text": [
      "Current Working Directory: /home/dtrautner/dev/ner-quality-impact\n",
      "\u001b[33mWARNING: Running pip as the 'root' user can result in broken permissions and conflicting behaviour with the system package manager. It is recommended to use a virtual environment instead: https://pip.pypa.io/warnings/venv\u001b[0m\u001b[33m\n",
      "\u001b[0m\n",
      "\u001b[1m[\u001b[0m\u001b[34;49mnotice\u001b[0m\u001b[1;39;49m]\u001b[0m\u001b[39;49m A new release of pip is available: \u001b[0m\u001b[31;49m23.1.2\u001b[0m\u001b[39;49m -> \u001b[0m\u001b[32;49m25.2\u001b[0m\n",
      "\u001b[1m[\u001b[0m\u001b[34;49mnotice\u001b[0m\u001b[1;39;49m]\u001b[0m\u001b[39;49m To update, run: \u001b[0m\u001b[32;49mpython -m pip install --upgrade pip\u001b[0m\n"
     ]
    }
   ],
   "source": [
    "import sys\n",
    "import os\n",
    "print(f\"Current Working Directory: {os.getcwd()}\")\n",
    "!pip install -r requirements.txt -q"
   ]
  },
  {
   "cell_type": "code",
   "execution_count": 2,
   "id": "f729cfee",
   "metadata": {},
   "outputs": [
    {
     "name": "stderr",
     "output_type": "stream",
     "text": [
      "/usr/local/lib/python3.10/dist-packages/tqdm/auto.py:21: TqdmWarning: IProgress not found. Please update jupyter and ipywidgets. See https://ipywidgets.readthedocs.io/en/stable/user_install.html\n",
      "  from .autonotebook import tqdm as notebook_tqdm\n",
      "/usr/local/lib/python3.10/dist-packages/torchvision/datapoints/__init__.py:12: UserWarning: The torchvision.datapoints and torchvision.transforms.v2 namespaces are still Beta. While we do not expect major breaking changes, some APIs may still change according to user feedback. Please submit any feedback you may have in this issue: https://github.com/pytorch/vision/issues/6753, and you can also check out https://github.com/pytorch/vision/issues/7319 to learn more about the APIs that we suspect might involve future changes. You can silence this warning by calling torchvision.disable_beta_transforms_warning().\n",
      "  warnings.warn(_BETA_TRANSFORMS_WARNING)\n",
      "/usr/local/lib/python3.10/dist-packages/torchvision/transforms/v2/__init__.py:54: UserWarning: The torchvision.datapoints and torchvision.transforms.v2 namespaces are still Beta. While we do not expect major breaking changes, some APIs may still change according to user feedback. Please submit any feedback you may have in this issue: https://github.com/pytorch/vision/issues/6753, and you can also check out https://github.com/pytorch/vision/issues/7319 to learn more about the APIs that we suspect might involve future changes. You can silence this warning by calling torchvision.disable_beta_transforms_warning().\n",
      "  warnings.warn(_BETA_TRANSFORMS_WARNING)\n",
      "[nltk_data] Downloading package wordnet to /root/nltk_data...\n",
      "[nltk_data]   Package wordnet is already up-to-date!\n"
     ]
    },
    {
     "name": "stdout",
     "output_type": "stream",
     "text": [
      "Setup complete. Modules imported successfully.\n"
     ]
    }
   ],
   "source": [
    "from src.noise.semantic import semantic_noise\n",
    "from src.noise.orthographic import typo_tokens\n",
    "from src.noise.label_noise import apply_label_noise_on_spans\n",
    "from src.noise.syntactic import syntactic_noise\n",
    "\n",
    "from src.data_preprocessing import build_label_maps, load_conll2003\n",
    "\n",
    "print(\"Setup complete. Modules imported successfully.\")"
   ]
  },
  {
   "cell_type": "code",
   "execution_count": 3,
   "id": "9fb09a3c",
   "metadata": {},
   "outputs": [
    {
     "name": "stdout",
     "output_type": "stream",
     "text": [
      "Loaded 2 example sentences.\n"
     ]
    }
   ],
   "source": [
    "ds = load_conll2003()\n",
    "id2label, label2id = build_label_maps(ds[\"train\"].features, \"ner_tags\")\n",
    "id2pos, pos2id = build_label_maps(ds[\"train\"].features, \"pos_tags\")\n",
    "\n",
    "# Take two example sentences from the training set\n",
    "train_ds = ds[\"train\"]\n",
    "num_examples = len(train_ds)\n",
    "middle_index = num_examples // 2\n",
    "examples = train_ds.select(range(middle_index, middle_index + 2))\n",
    "\n",
    "print(f\"Loaded {len(examples)} example sentences.\")"
   ]
  },
  {
   "cell_type": "code",
   "execution_count": 4,
   "id": "4935896f",
   "metadata": {},
   "outputs": [],
   "source": [
    "def print_tokens_with_labels(tokens, ner_labels):\n",
    "    \"\"\"A helper function to print tokens and NER labels in an aligned format.\"\"\"\n",
    "    token_lengths = [len(token) for token in tokens]\n",
    "\n",
    "    token_line = \" \".join(tokens)\n",
    "    \n",
    "    # Create the string for labels, padded to align with the tokens above\n",
    "    label_line = \" \".join([label.ljust(length) for label, length in zip(ner_labels, token_lengths)])\n",
    "    \n",
    "    print(\"Tokens: \" + token_line)\n",
    "    print(\"Labels: \" + label_line)"
   ]
  },
  {
   "cell_type": "code",
   "execution_count": 5,
   "id": "5b55ad2b",
   "metadata": {},
   "outputs": [],
   "source": [
    "def demonstrate_noise_effect(\n",
    "    noise_function, \n",
    "    example, \n",
    "    id2label, \n",
    "    id2pos, \n",
    "    noise_params, \n",
    "):\n",
    "    \"\"\"\n",
    "    A generic function to apply any noise function to an example and print the result.\n",
    "    \"\"\"\n",
    "    original_tokens = example[\"tokens\"]\n",
    "    pos_tag_ids = example[\"pos_tags\"]\n",
    "    original_ner_tag_ids  = example[\"ner_tags\"]\n",
    "    \n",
    "    pos_tags = [id2pos[tag_id] for tag_id in pos_tag_ids]\n",
    "    original_ner_labels = [id2label[tag_id] for tag_id in original_ner_tag_ids ]\n",
    "\n",
    "    print(\"=\" * 60)\n",
    "    print(\"Original Sentence:\")\n",
    "    print_tokens_with_labels(original_tokens, original_ner_labels)\n",
    "    print(\"\\n\")\n",
    "    \n",
    "    func_name = noise_function.__name__\n",
    "    noisy_tokens = original_tokens\n",
    "    noisy_ner_labels = original_ner_labels\n",
    "\n",
    "    if func_name == \"semantic_noise\":\n",
    "        noisy_tokens = noise_function(\n",
    "            tokens=original_tokens,\n",
    "            pos_tags=pos_tags,\n",
    "            ner_tags=original_ner_tag_ids ,\n",
    "            id2label=id2label,\n",
    "            **noise_params\n",
    "        )\n",
    "    elif func_name == \"typo_tokens\":\n",
    "        noisy_tokens = noise_function(\n",
    "            tokens=original_tokens,\n",
    "            ner_tags=original_ner_tag_ids,\n",
    "            id2label=id2label,\n",
    "            **noise_params\n",
    "        )\n",
    "    elif func_name == \"syntactic_noise\":\n",
    "        params_with_o_label = {\"o_label\": label2id[\"O\"], **noise_params}\n",
    "        new_tokens, new_ner_tag_ids = noise_function(\n",
    "            original_tokens, original_ner_tag_ids, id2label=id2label, label2id=label2id, **params_with_o_label\n",
    "        )\n",
    "        noisy_tokens = new_tokens\n",
    "        noisy_ner_labels = [id2label[tag_id] for tag_id in new_ner_tag_ids]\n",
    "    elif \"apply_label_noise_on_spans\" in func_name: \n",
    "        new_ner_tag_ids = noise_function(\n",
    "            original_ner_tag_ids, id2label, label2id, **noise_params\n",
    "        )\n",
    "        noisy_ner_labels = [id2label[tag_id] for tag_id in new_ner_tag_ids]\n",
    "    else:\n",
    "        # Fallback for other potential functions\n",
    "        print(f\"Warning: Don't know the specific signature for {func_name}. Trying a generic call.\")\n",
    "        noisy_tokens = noise_function(tokens=original_tokens, **noise_params)\n",
    "\n",
    "    print(f\"Sentence After '{func_name}':\")\n",
    "    print_tokens_with_labels(noisy_tokens, noisy_ner_labels)\n",
    "    print(\"=\" * 60)\n",
    "    print(\"\\n\")"
   ]
  },
  {
   "cell_type": "code",
   "execution_count": 6,
   "id": "ca3a9e70",
   "metadata": {},
   "outputs": [
    {
     "name": "stdout",
     "output_type": "stream",
     "text": [
      "============================================================\n",
      "Original Sentence:\n",
      "Tokens: A spokesman for the group said the meeting \" signals a new level of cooperation between Mujahideen Khalq and the Iranian Kurdish oppositions \" .\n",
      "Labels: O O         O   O   O     O    O   O       O O       O O   O     O  O           O       B-ORG      I-ORG O   O   B-MISC  I-MISC  O           O O\n",
      "\n",
      "\n",
      "Loading contextual model: albert-base-v2\n"
     ]
    },
    {
     "name": "stderr",
     "output_type": "stream",
     "text": [
      "Some weights of the model checkpoint at albert-base-v2 were not used when initializing AlbertForMaskedLM: ['albert.pooler.bias', 'albert.pooler.weight']\n",
      "- This IS expected if you are initializing AlbertForMaskedLM from the checkpoint of a model trained on another task or with another architecture (e.g. initializing a BertForSequenceClassification model from a BertForPreTraining model).\n",
      "- This IS NOT expected if you are initializing AlbertForMaskedLM from the checkpoint of a model that you expect to be exactly identical (initializing a BertForSequenceClassification model from a BertForSequenceClassification model).\n",
      "Device set to use cuda:0\n"
     ]
    },
    {
     "name": "stdout",
     "output_type": "stream",
     "text": [
      "Sentence After 'semantic_noise':\n",
      "Tokens: A spokesman for the group said the announcement \" opened a greater sort of relations between Mahmoud Khalq and the Iranian Political faction \" .\n",
      "Labels: O O         O   O   O     O    O   O            O O      O O       O    O  O         O       B-ORG   I-ORG O   O   B-MISC  I-MISC    O       O O\n",
      "============================================================\n",
      "\n",
      "\n",
      "============================================================\n",
      "Original Sentence:\n",
      "Tokens: Iran heavily bombarded targets in northern Iraq in July in pursuit of KDPI guerrillas based in Iraqi Kurdish areas outside the control of the government in Baghdad .\n",
      "Labels: B-LOC O       O         O       O  O        B-LOC O  O    O  O       O  B-ORG O          O     O  B-MISC I-MISC  O     O       O   O       O  O   O          O  B-LOC   O\n",
      "\n",
      "\n",
      "Sentence After 'semantic_noise':\n",
      "Tokens: Kurds repeatedly bombed insurgents in northern Syria in July in favour of HEZBOLLAH guerrillas based in Shia Border provinces outside the control of the government in Baghdad .\n",
      "Labels: B-LOC O          O      O          O  O        B-LOC O  O    O  O      O  B-ORG     O          O     O  B-MISC I-MISC O         O       O   O       O  O   O          O  B-LOC   O\n",
      "============================================================\n",
      "\n",
      "\n"
     ]
    }
   ],
   "source": [
    "\n",
    "semantic_params = {\n",
    "    \"p\": 0.6,\n",
    "    \"entity_strategy\": \"all\",\n",
    "    \"ops\": [\"contextual\"], #\"synonym\", \"word_embs\", \"contextual\"\n",
    "}\n",
    "\n",
    "index = 134\n",
    "examples = train_ds.select(range(index, index + 2))\n",
    "\n",
    "for example in examples:\n",
    "    demonstrate_noise_effect(\n",
    "            noise_function=semantic_noise,\n",
    "            example=example,\n",
    "            id2label=id2label,\n",
    "            id2pos=id2pos,\n",
    "            noise_params=semantic_params,\n",
    "        )"
   ]
  },
  {
   "cell_type": "code",
   "execution_count": 7,
   "id": "18e21ddb",
   "metadata": {},
   "outputs": [
    {
     "name": "stdout",
     "output_type": "stream",
     "text": [
      "============================================================\n",
      "Original Sentence:\n",
      "Tokens: A spokesman for the group said the meeting \" signals a new level of cooperation between Mujahideen Khalq and the Iranian Kurdish oppositions \" .\n",
      "Labels: O O         O   O   O     O    O   O       O O       O O   O     O  O           O       B-ORG      I-ORG O   O   B-MISC  I-MISC  O           O O\n",
      "\n",
      "\n",
      "Sentence After 'typo_tokens':\n",
      "Tokens: A spokesman for the grop sadi thw jmeeting \" signals a new level of cooperation bdtween Myjahideen Khalq and the Iranian Kurdish oppositions \" .\n",
      "Labels: O O         O   O   O    O    O   O        O O       O O   O     O  O           O       B-ORG      I-ORG O   O   B-MISC  I-MISC  O           O O\n",
      "============================================================\n",
      "\n",
      "\n",
      "============================================================\n",
      "Original Sentence:\n",
      "Tokens: Iran heavily bombarded targets in northern Iraq in July in pursuit of KDPI guerrillas based in Iraqi Kurdish areas outside the control of the government in Baghdad .\n",
      "Labels: B-LOC O       O         O       O  O        B-LOC O  O    O  O       O  B-ORG O          O     O  B-MISC I-MISC  O     O       O   O       O  O   O          O  B-LOC   O\n",
      "\n",
      "\n",
      "Sentence After 'typo_tokens':\n",
      "Tokens: Iran hevaily bombarded targets in northern Iraq in July in pursuit of KDPI guertrillas based in Kraqi Kurdish areas ioutside the control of thde government in Baghad .\n",
      "Labels: B-LOC O       O         O       O  O        B-LOC O  O    O  O       O  B-ORG O           O     O  B-MISC I-MISC  O     O        O   O       O  O    O          O  B-LOC  O\n",
      "============================================================\n",
      "\n",
      "\n"
     ]
    }
   ],
   "source": [
    "orthographic_params = { \"p\": 0.3, \"protect_entities\": False }\n",
    "\n",
    "index = 134\n",
    "examples = train_ds.select(range(index, index + 2))\n",
    "\n",
    "for example in examples:\n",
    "    demonstrate_noise_effect(\n",
    "            noise_function=typo_tokens,\n",
    "            example=example,\n",
    "            id2label=id2label,\n",
    "            id2pos=id2pos,\n",
    "            noise_params=orthographic_params,\n",
    "        )"
   ]
  },
  {
   "cell_type": "code",
   "execution_count": 8,
   "id": "f726c210",
   "metadata": {},
   "outputs": [
    {
     "name": "stdout",
     "output_type": "stream",
     "text": [
      "============================================================\n",
      "Original Sentence:\n",
      "Tokens: A spokesman for the group said the meeting \" signals a new level of cooperation between Mujahideen Khalq and the Iranian Kurdish oppositions \" .\n",
      "Labels: O O         O   O   O     O    O   O       O O       O O   O     O  O           O       B-ORG      I-ORG O   O   B-MISC  I-MISC  O           O O\n",
      "\n",
      "\n",
      "Sentence After 'syntactic_noise':\n",
      "Tokens: A : spokesman for the group said the meeting \" signals new , level of cooperation ; between Mujahideen Khalq and the Iranian Kurdish oppositions , \" .\n",
      "Labels: O O O         O   O   O     O    O   O       O O       O   O O     O  O           O O       B-ORG      I-ORG O   O   B-MISC  I-MISC  O           O O O\n",
      "============================================================\n",
      "\n",
      "\n",
      "============================================================\n",
      "Original Sentence:\n",
      "Tokens: Iran heavily bombarded targets in northern Iraq in July in pursuit of KDPI guerrillas based in Iraqi Kurdish areas outside the control of the government in Baghdad .\n",
      "Labels: B-LOC O       O         O       O  O        B-LOC O  O    O  O       O  B-ORG O          O     O  B-MISC I-MISC  O     O       O   O       O  O   O          O  B-LOC   O\n",
      "\n",
      "\n",
      "Sentence After 'syntactic_noise':\n",
      "Tokens: Iran heavily bombard ed targets in northern Iraq in July in pursuit of KDPI guerrillas based in Kurdish Iraqi areas outside the control o f the governmentin Baghdad .\n",
      "Labels: B-LOC O       O       O  O       O  O        B-LOC O  O    O  O       O  B-ORG O          O     O  I-MISC  B-MISC O     O       O   O       O O O   O            B-LOC   O\n",
      "============================================================\n",
      "\n",
      "\n"
     ]
    }
   ],
   "source": [
    "syntactic_params  = { \"p\": 0.3}\n",
    "\n",
    "index = 134\n",
    "examples = train_ds.select(range(index, index + 2))\n",
    "\n",
    "for example in examples:\n",
    "    demonstrate_noise_effect(\n",
    "            noise_function=syntactic_noise,\n",
    "            example=example,\n",
    "            id2label=id2label,\n",
    "            id2pos=id2pos,\n",
    "            noise_params=syntactic_params,\n",
    "        )"
   ]
  },
  {
   "cell_type": "code",
   "execution_count": 9,
   "id": "b1dd1405",
   "metadata": {},
   "outputs": [
    {
     "name": "stdout",
     "output_type": "stream",
     "text": [
      "============================================================\n",
      "Original Sentence:\n",
      "Tokens: A spokesman for the group said the meeting \" signals a new level of cooperation between Mujahideen Khalq and the Iranian Kurdish oppositions \" .\n",
      "Labels: O O         O   O   O     O    O   O       O O       O O   O     O  O           O       B-ORG      I-ORG O   O   B-MISC  I-MISC  O           O O\n",
      "\n",
      "\n",
      "Sentence After 'apply_label_noise_on_spans':\n",
      "Tokens: A spokesman for the group said the meeting \" signals a new level of cooperation between Mujahideen Khalq and the Iranian Kurdish oppositions \" .\n",
      "Labels: O O         O   O   O     O    O   O       O O       O O   O     O  O           O       O          O     O   O   B-MISC  I-MISC  O           O O\n",
      "============================================================\n",
      "\n",
      "\n",
      "============================================================\n",
      "Original Sentence:\n",
      "Tokens: Iran heavily bombarded targets in northern Iraq in July in pursuit of KDPI guerrillas based in Iraqi Kurdish areas outside the control of the government in Baghdad .\n",
      "Labels: B-LOC O       O         O       O  O        B-LOC O  O    O  O       O  B-ORG O          O     O  B-MISC I-MISC  O     O       O   O       O  O   O          O  B-LOC   O\n",
      "\n",
      "\n",
      "Sentence After 'apply_label_noise_on_spans':\n",
      "Tokens: Iran heavily bombarded targets in northern Iraq in July in pursuit of KDPI guerrillas based in Iraqi Kurdish areas outside the control of the government in Baghdad .\n",
      "Labels: B-LOC O       O         O       O  O        B-MISC O  O    O  O       O  B-ORG O          O     O  O     O       O     O       O   O       O  O   O          O  B-LOC   O\n",
      "============================================================\n",
      "\n",
      "\n"
     ]
    }
   ],
   "source": [
    "label_params  = { \"p\": 0.50, \"to_O_prob\": 0.50 }\n",
    "\n",
    "index = 134\n",
    "examples = train_ds.select(range(index, index + 2))\n",
    "\n",
    "for example in examples:\n",
    "    demonstrate_noise_effect(\n",
    "            noise_function=apply_label_noise_on_spans,\n",
    "            example=example,\n",
    "            id2label=id2label,\n",
    "            id2pos=id2pos,\n",
    "            noise_params=label_params,\n",
    "        )"
   ]
  }
 ],
 "metadata": {
  "kernelspec": {
   "display_name": "Python 3 (ipykernel)",
   "language": "python",
   "name": "python3"
  },
  "language_info": {
   "codemirror_mode": {
    "name": "ipython",
    "version": 3
   },
   "file_extension": ".py",
   "mimetype": "text/x-python",
   "name": "python",
   "nbconvert_exporter": "python",
   "pygments_lexer": "ipython3",
   "version": "3.10.6"
  }
 },
 "nbformat": 4,
 "nbformat_minor": 5
}
